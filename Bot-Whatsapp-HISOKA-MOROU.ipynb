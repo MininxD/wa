{
  "nbformat": 4,
  "nbformat_minor": 0,
  "metadata": {
    "colab": {
      "private_outputs": true,
      "provenance": [],
      "collapsed_sections": [
        "peVUi0eLZyx1",
        "gbo1UreUlYIw",
        "IJypdKn_lmTb",
        "lz-BkMV6lrHV",
        "ssJWYPqbluW_"
      ],
      "authorship_tag": "ABX9TyNx/tuUAuzagyscEqIytpjO",
      "include_colab_link": true
    },
    "kernelspec": {
      "name": "python3",
      "display_name": "Python 3"
    },
    "language_info": {
      "name": "python"
    }
  },
  "cells": [
    {
      "cell_type": "markdown",
      "metadata": {
        "id": "view-in-github",
        "colab_type": "text"
      },
      "source": [
        "<a href=\"https://colab.research.google.com/github/MininxD/wa/blob/master/Bot-Whatsapp-HISOKA-MOROU.ipynb\" target=\"_parent\"><img src=\"https://colab.research.google.com/assets/colab-badge.svg\" alt=\"Open In Colab\"/></a>"
      ]
    },
    {
      "cell_type": "markdown",
      "source": [
        "## <b>Pemasangan Modul\n",
        "<h5>\n",
        "Pasang modulnya terlebih dahulu"
      ],
      "metadata": {
        "id": "peVUi0eLZyx1"
      }
    },
    {
      "cell_type": "code",
      "execution_count": null,
      "metadata": {
        "id": "J6C4EkbGXaem"
      },
      "outputs": [],
      "source": [
        "!curl -sL https://deb.nodesource.com/setup_16.x | bash -\n",
        "!apt install nodejs -y\n",
        "!apt install ffmpeg -y\n",
        "!apt install git -y\n"
      ]
    },
    {
      "cell_type": "markdown",
      "source": [
        "### Cek modul sudah terpasang apa belum"
      ],
      "metadata": {
        "id": "gbo1UreUlYIw"
      }
    },
    {
      "cell_type": "markdown",
      "source": [
        "Lalu run dibawah ini dan pastikan hasilnya bertulis<br>\n",
        "<b>v16.17.0<br>\n",
        "8.15.0</b>\n",
        "<br><i>atau angka yang lebih tinggi"
      ],
      "metadata": {
        "id": "nW_onza7aOMA"
      }
    },
    {
      "cell_type": "code",
      "source": [
        "!node -v\n",
        "!npm -v"
      ],
      "metadata": {
        "id": "RGpmvBrfZnuD"
      },
      "execution_count": null,
      "outputs": []
    },
    {
      "cell_type": "markdown",
      "source": [
        "## <b>Download file bot"
      ],
      "metadata": {
        "id": "IJypdKn_lmTb"
      }
    },
    {
      "cell_type": "markdown",
      "source": [
        "<h5><b>Download file bot ke server google colab"
      ],
      "metadata": {
        "id": "YWIircN9b6HP"
      }
    },
    {
      "cell_type": "code",
      "source": [
        "!git clone https://github.com/mininxd/wa\n",
        "%cd wa\n",
        "!ls"
      ],
      "metadata": {
        "id": "vxE9opy9ZsHX"
      },
      "execution_count": null,
      "outputs": []
    },
    {
      "cell_type": "markdown",
      "source": [
        "## <b>Instalasi bot"
      ],
      "metadata": {
        "id": "lz-BkMV6lrHV"
      }
    },
    {
      "cell_type": "markdown",
      "source": [
        "<b>Install botnya dengan run kode dibawah"
      ],
      "metadata": {
        "id": "iKuxmu8acSmt"
      }
    },
    {
      "cell_type": "code",
      "source": [
        "!npm install"
      ],
      "metadata": {
        "id": "8CLuJMfNbnQ3"
      },
      "execution_count": null,
      "outputs": []
    },
    {
      "cell_type": "markdown",
      "source": [
        "## <b>Jalankan Bot"
      ],
      "metadata": {
        "id": "ssJWYPqbluW_"
      }
    },
    {
      "cell_type": "markdown",
      "source": [
        "<h4><b>Daaaan.... Jalankan"
      ],
      "metadata": {
        "id": "-eZLXzqYcYSw"
      }
    },
    {
      "cell_type": "code",
      "source": [
        "!node ."
      ],
      "metadata": {
        "id": "xoBlfT7QaFyp"
      },
      "execution_count": null,
      "outputs": []
    }
  ]
} 
